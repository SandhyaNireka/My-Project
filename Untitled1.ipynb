{
  "nbformat": 4,
  "nbformat_minor": 0,
  "metadata": {
    "colab": {
      "provenance": [],
      "authorship_tag": "ABX9TyOPeg5E5guFtfP/zHEHTjsb",
      "include_colab_link": true
    },
    "kernelspec": {
      "name": "python3",
      "display_name": "Python 3"
    },
    "language_info": {
      "name": "python"
    }
  },
  "cells": [
    {
      "cell_type": "markdown",
      "metadata": {
        "id": "view-in-github",
        "colab_type": "text"
      },
      "source": [
        "<a href=\"https://colab.research.google.com/github/SandhyaNireka/My-Project/blob/main/Untitled1.ipynb\" target=\"_parent\"><img src=\"https://colab.research.google.com/assets/colab-badge.svg\" alt=\"Open In Colab\"/></a>"
      ]
    },
    {
      "cell_type": "code",
      "execution_count": 1,
      "metadata": {
        "colab": {
          "base_uri": "https://localhost:8080/"
        },
        "id": "PEPET1tZs8UL",
        "outputId": "8f787e44-8c1c-41e4-e059-c78880e3b6d5"
      },
      "outputs": [
        {
          "output_type": "stream",
          "name": "stdout",
          "text": [
            "Choose a restaurant:\n",
            "1. Krishna Dosai Kadai\n",
            "2. Ganga Sweets\n",
            "3. Sree Gupta Bhavan\n",
            "4. Adyar Anandha Bhavan\n",
            "Enter choice (1/2/3/4): 1\n",
            "Welcome to Krishna Dosai Kadai\n",
            "Welcome to Krishna Dosai Kadai\n",
            "Menu:\n",
            "Biriyani: $270.0\n",
            "Noodles: $150.0\n",
            "Mushroom Pulav: $175.0\n",
            "Cashew Pulav: $210.0\n",
            "Panner Fried Rice: $180.0\n",
            "Enter your name: Biriyan\n",
            "Enter the item you want to order: 2\n",
            "Enter the quantity: 2\n",
            "Item not found in the menu.\n",
            "No orders found for this user.\n"
          ]
        }
      ],
      "source": [
        "import json\n",
        "\n",
        "# Sample menu data\n",
        "restaurant_names = ['Krishna Dosai Kadai', 'Ganga Sweets', 'Sree Gupta Bhavan', 'Adyar Anandha Bhavan']\n",
        "\n",
        "menu_data = {\n",
        "    \"menu\": {\n",
        "        \"Biriyani\": 270.00,\n",
        "        \"Noodles\": 150.00,\n",
        "        \"Mushroom Pulav\": 175.00,\n",
        "        \"Cashew Pulav\": 210.00,\n",
        "        \"Panner Fried Rice\": 180.00\n",
        "    }\n",
        "}\n",
        "\n",
        "# Sample user data\n",
        "user_data = {}\n",
        "\n",
        "# Function to display menu\n",
        "def display_menu(restaurant_name):\n",
        "    print(\"Welcome to\", restaurant_name)  # Use the passed restaurant_name variable\n",
        "    print(\"Menu:\")\n",
        "    for item, price in menu_data[\"menu\"].items():\n",
        "        print(f\"{item}: ${price}\")\n",
        "\n",
        "# Main function\n",
        "def main():\n",
        "    print(\"Choose a restaurant:\")\n",
        "    print(\"1. Krishna Dosai Kadai\")\n",
        "    print(\"2. Ganga Sweets\")\n",
        "    print(\"3. Sree Gupta Bhavan\")\n",
        "    print(\"4. Adyar Anandha Bhavan\")\n",
        "\n",
        "    choice = input(\"Enter choice (1/2/3/4): \")\n",
        "    if choice in ('1', '2', '3', '4'):\n",
        "        if choice == '1':\n",
        "            restaurant_name = restaurant_names[0]  # Assigning the selected restaurant name\n",
        "        elif choice == '2':\n",
        "            restaurant_name = restaurant_names[1]\n",
        "        elif choice == '3':\n",
        "            restaurant_name = restaurant_names[2]\n",
        "        elif choice == '4':\n",
        "            restaurant_name = restaurant_names[3]\n",
        "\n",
        "        print(f\"Welcome to {restaurant_name}\")  # Print the welcome message for the selected restaurant\n",
        "        display_menu(restaurant_name)  # Display the menu for the selected restaurant\n",
        "\n",
        "        user_name = input(\"Enter your name: \")\n",
        "        item = input(\"Enter the item you want to order: \")\n",
        "        quantity = int(input(\"Enter the quantity: \"))\n",
        "        place_order(user_name, item, quantity)\n",
        "        display_orders(user_name)\n",
        "\n",
        "# Function to place order\n",
        "def place_order(user_name, item, quantity):\n",
        "    if item in menu_data[\"menu\"]:\n",
        "        total_price = menu_data[\"menu\"][item] * quantity\n",
        "        if user_name in user_data:\n",
        "            user_data[user_name][\"orders\"].append({\"item\": item, \"quantity\": quantity, \"total_price\": total_price})\n",
        "        else:\n",
        "            user_data[user_name] = {\"orders\": [{\"item\": item, \"quantity\": quantity, \"total_price\": total_price}]}\n",
        "        print(\"Order placed successfully!\")\n",
        "    else:\n",
        "        print(\"Item not found in the menu.\")\n",
        "\n",
        "# Function to display user orders\n",
        "def display_orders(user_name):\n",
        "    if user_name in user_data:\n",
        "        print(\"Your Orders:\")\n",
        "        for order in user_data[user_name][\"orders\"]:\n",
        "            print(f\"{order['quantity']} x {order['item']} - Total: ${order['total_price']}\")\n",
        "    else:\n",
        "        print(\"No orders found for this user.\")\n",
        "\n",
        "if __name__ == \"__main__\":\n",
        "    main()\n"
      ]
    }
  ]
}